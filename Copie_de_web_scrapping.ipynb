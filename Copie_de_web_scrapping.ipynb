{
  "nbformat": 4,
  "nbformat_minor": 0,
  "metadata": {
    "colab": {
      "provenance": [],
      "include_colab_link": true
    },
    "kernelspec": {
      "name": "python3",
      "display_name": "Python 3"
    },
    "language_info": {
      "name": "python"
    }
  },
  "cells": [
    {
      "cell_type": "markdown",
      "metadata": {
        "id": "view-in-github",
        "colab_type": "text"
      },
      "source": [
        "<a href=\"https://colab.research.google.com/github/poupoug/CyberSecuProject/blob/main/Copie_de_web_scrapping.ipynb\" target=\"_parent\"><img src=\"https://colab.research.google.com/assets/colab-badge.svg\" alt=\"Open In Colab\"/></a>"
      ]
    },
    {
      "cell_type": "code",
      "source": [
        "#INFORMATION GENERAL BIEN TOUS REGARDER ET VOIR JUSQU A LA FIN CELA S APPARENTE A DU MI SCRAPPING COMBINER A DU HACKING HETICAL"
      ],
      "metadata": {
        "id": "_BV3RsGfRsEr"
      },
      "execution_count": null,
      "outputs": []
    },
    {
      "cell_type": "code",
      "source": [
        "import requests\n",
        "from bs4 import BeautifulSoup\n",
        "import pandas as pd\n"
      ],
      "metadata": {
        "id": "c2cWyd9AhOek"
      },
      "execution_count": null,
      "outputs": []
    },
    {
      "cell_type": "code",
      "source": [
        "from urllib.request import urlopen "
      ],
      "metadata": {
        "id": "BsfyPvXFJJ7U"
      },
      "execution_count": null,
      "outputs": []
    },
    {
      "cell_type": "code",
      "source": [
        "url=\"https://webshop.transgourmet.ch/shop/index.html#/catalog?f=W10=\" \n"
      ],
      "metadata": {
        "id": "9BSV9h1YJizF"
      },
      "execution_count": null,
      "outputs": []
    },
    {
      "cell_type": "code",
      "source": [
        "reponse=urlopen(url).read()"
      ],
      "metadata": {
        "id": "H0bSC5_oJ_Q_"
      },
      "execution_count": null,
      "outputs": []
    },
    {
      "cell_type": "code",
      "source": [
        "print(reponse)"
      ],
      "metadata": {
        "colab": {
          "base_uri": "https://localhost:8080/"
        },
        "id": "Hd4ZBOD9KNzE",
        "outputId": "08a64cda-1301-4218-fac5-3bf23170e364"
      },
      "execution_count": null,
      "outputs": [
        {
          "output_type": "stream",
          "name": "stdout",
          "text": [
            "b'<!doctype html><html lang=\"en\"><head><meta charset=\"utf-8\"><meta name=\"viewport\" content=\"width=device-width,initial-scale=1,shrink-to-fit=no\"><meta name=\"theme-color\" content=\"#000000\"><meta http-equiv=\"X-UA-Compatible\" content=\"IE=edge\"><link rel=\"stylesheet\" href=\"assets/css/base.css\"><link rel=\"apple-touch-icon\" sizes=\"180x180\" href=\"./assets/transgourmet/images/favicons/apple-touch-icon.png\"><link rel=\"icon\" type=\"image/png\" sizes=\"32x32\" href=\"./assets/transgourmet/images/favicons/favicon-32x32.png\"><link rel=\"icon\" type=\"image/png\" sizes=\"16x16\" href=\"./assets/transgourmet/images/favicons/favicon-16x16.png\"><link rel=\"manifest\" href=\"./assets/transgourmet/images/favicons/site.webmanifest\"><link rel=\"mask-icon\" href=\"./assets/transgourmet/images/favicons/safari-pinned-tab.svg\" color=\"#ffffff\"><meta name=\"msapplication-TileColor\" content=\"#da532c\"><meta name=\"theme-color\" content=\"#ffffff\"><link rel=\"shortcut icon\" type=\"image/x-icon\" href=\"./assets/transgourmet/images/favicons/favicon.ico\"/><title>Web Shop</title><link href=\"./static/css/30.c2f27783.chunk.css\" rel=\"stylesheet\"></head><body><noscript>You need to enable JavaScript to run this app. <img height=\"1\" width=\"1\" src=\"https://www.facebook.com/tr?id=2901560449900864&ev=PageView &noscript=1\" alt=\"\"/></noscript>\\n\\n<script>Function(\"/*@cc_on return document.documentMode===10@*/\")()&&(document.location.href=\"browsersupport.html\"),function(e,n,t,o,c,u,r){e.fbq||(c=e.fbq=function(){c.callMethod?c.callMethod.apply(c,arguments):c.queue.push(arguments)},e._fbq||(e._fbq=c),(c.push=c).loaded=!0,c.version=\"2.0\",c.queue=[],(u=n.createElement(t)).async=!0,u.src=\"https://connect.facebook.net/en_US/fbevents.js\",(r=n.getElementsByTagName(t)[0]).parentNode.insertBefore(u,r))}(window,document,\"script\")</script><div id=\"app-content\"><div class=\"splashWrapper\"><div id=\"splashContainer\" class=\"splash\"></div></div></div><script>const mandant = \\'transgourmet\\';\\n    const loaderImage = document.createElement(\"img\");\\n\\n    if (mandant === \\'frischeparadies\\') {\\n        document.title = \\'Frischeparadies Web Shop\\';\\n\\n        loaderImage.setAttribute(\\'src\\', \\'assets/frischeparadies/images/logo.png\\');\\n        loaderImage.setAttribute(\\'width\\', \\'300px\\');\\n\\n        document.write(\\'<link rel=\"stylesheet\" type=\"text/css\" href=\"./assets/frischeparadies/styles.css\">\\');\\n\\n    } else {\\n        document.title = \"Transgourmet Web Shop\";\\n\\n        loaderImage.setAttribute(\\'src\\', \\'assets/transgourmet/images/logo.svg\\');\\n\\n        document.write(\\'<link rel=\"stylesheet\" type=\"text/css\" href=\"./assets/transgourmet/styles.css\">\\');\\n    }\\n\\n    document.getElementById(\\'splashContainer\\').appendChild(loaderImage);\\n\\n    if (!window.btoa) {\\n        document.write(\\'<script src=\"./assets/polyfill/btoa/base64.min.js\"><\\\\/script>\\');\\n    }</script>\\n<script>\\n    window.PPCONTEXT = {\\n        DEPLOYMENT_ENVIRONMENT: \\'PROD\\',\\n        STATIC_IMAGES_BASE_URL: \\'https://webshop.transgourmet.ch/images\\',\\n        GOOGLE_TRACKING_ID: \\'UA-49499734-21\\',\\n        TGS_AUTH_METHOD: \\'sso\\',\\n        KEYCLOAK_HOST: \\'https://login.transgourmet.ch/sso\\',\\n        KEYCLOAK_REALM: \\'Transgourmet\\',\\n        BACKEND_URL: \\'/api/swap/webshop\\',\\n        CONTAINER_STARTUP_TIME: \\'2023-01-11 22:01:25\\',\\n        BUILD_TIME: \\'2023-01-10 17:58:18\\',\\n        GITHASH: \\'1543077\\',\\n        RELEASE_VERSION: \\'8.9.5\\',\\n    };\\n</script>\\n<script>!function(e,a,n,t,c,g,o){e.GoogleAnalyticsObject=c,e.ga=e.ga||function(){(e.ga.q=e.ga.q||[]).push(arguments)},e.ga.l=1*new Date,g=a.createElement(n),o=a.getElementsByTagName(n)[0],g.async=1,g.src=\"//www.google-analytics.com/analytics.js\",o.parentNode.insertBefore(g,o)}(window,document,\"script\",0,\"ga\")</script><script>switch(PPCONTEXT.DEPLOYMENT_ENVIRONMENT){case\"TEST\":!function(t,e,a,c){t=\"//tags.tiqcdn.com/utag/coop-ch/tgch-transgourmet/dev/utag.js\",a=\"script\",(c=(e=document).createElement(a)).src=t,c.type=\"text/java\"+a,c.async=!0,(t=e.getElementsByTagName(a)[0]).parentNode.insertBefore(c,t)}();break;case\"DEVELOPMENT\":!function(t,e,a,c){t=\"//tags.tiqcdn.com/utag/coop-ch/tgch-transgourmet/qa/utag.js\",a=\"script\",(c=(e=document).createElement(a)).src=t,c.type=\"text/java\"+a,c.async=!0,(t=e.getElementsByTagName(a)[0]).parentNode.insertBefore(c,t)}();break;case\"PRODUCTION\":!function(t,e,a,c){t=\"//tags.tiqcdn.com/utag/coop-ch/tgch-transgourmet/prod/utag.js\",a=\"script\",(c=(e=document).createElement(a)).src=t,c.type=\"text/java\"+a,c.async=!0,(t=e.getElementsByTagName(a)[0]).parentNode.insertBefore(c,t)}()}</script><script>!function(u){function e(e){for(var r,t,n=e[0],o=e[1],c=e[2],a=0,i=[];a<n.length;a++)t=n[a],Object.prototype.hasOwnProperty.call(f,t)&&f[t]&&i.push(f[t][0]),f[t]=0;for(r in o)Object.prototype.hasOwnProperty.call(o,r)&&(u[r]=o[r]);for(p&&p(e);i.length;)i.shift()();return d.push.apply(d,c||[]),l()}function l(){for(var e,r=0;r<d.length;r++){for(var t=d[r],n=!0,o=1;o<t.length;o++){var c=t[o];0!==f[c]&&(n=!1)}n&&(d.splice(r--,1),e=s(s.s=t[0]))}return e}var t={},f={29:0},d=[];function s(e){if(t[e])return t[e].exports;var r=t[e]={i:e,l:!1,exports:{}};return u[e].call(r.exports,r,r.exports,s),r.l=!0,r.exports}s.e=function(o){var e=[],t=f[o];if(0!==t)if(t)e.push(t[2]);else{var r=new Promise(function(e,r){t=f[o]=[e,r]});e.push(t[2]=r);var n,c=document.createElement(\"script\");c.charset=\"utf-8\",c.timeout=120,s.nc&&c.setAttribute(\"nonce\",s.nc),c.src=s.p+\"static/js/\"+({4:\"CareScreen\",5:\"CartScreen\",6:\"CatalogModule\",7:\"CreateOrderScreen\",8:\"CustomPromoScreen\",9:\"CustomerOrderModule\",10:\"DeliveryDaysScreen\",11:\"DownloadScreen\",12:\"ExternalArticleModule\",13:\"ForgotPasswordChangeScreen\",14:\"HwgDetailScreen\",15:\"InventoryModule\",16:\"InvoiceListScreen\",17:\"OciEntryScreen\",18:\"OciFinishScreen\",19:\"PromotionPreviewOverview\",20:\"PromotionScreen\",21:\"SalesOrderSetScreen\",22:\"ScanpoolOverviewScreen\",23:\"SearchAnalyserScreen\",24:\"ShipmentListScreen\",25:\"SupplierModule\",26:\"TemplateModule\",27:\"UserSettingsScreen\"}[o]||o)+\".\"+{0:\"8bc217c9\",1:\"ed9fde11\",2:\"06eeac8b\",3:\"82cf810a\",4:\"de9d567d\",5:\"43f896fc\",6:\"fa9fd212\",7:\"befc06a0\",8:\"9ab7e946\",9:\"d81b500b\",10:\"e10b456a\",11:\"ed9f65b1\",12:\"d6ad79cc\",13:\"262e427c\",14:\"35c3afcc\",15:\"fabbc5c6\",16:\"4cac8cc7\",17:\"1b2ac3f0\",18:\"e665d057\",19:\"6c4b10a6\",20:\"bc6a9775\",21:\"d3a0142b\",22:\"1b2bd34d\",23:\"712d5759\",24:\"c6644b0a\",25:\"99f35dd6\",26:\"85fd3a37\",27:\"9ed723f3\",31:\"98becf66\"}[o]+\".chunk.js\";var a=new Error;n=function(e){c.onerror=c.onload=null,clearTimeout(i);var r=f[o];if(0!==r){if(r){var t=e&&(\"load\"===e.type?\"missing\":e.type),n=e&&e.target&&e.target.src;a.message=\"Loading chunk \"+o+\" failed.\\\\n(\"+t+\": \"+n+\")\",a.name=\"ChunkLoadError\",a.type=t,a.request=n,r[1](a)}f[o]=void 0}};var i=setTimeout(function(){n({type:\"timeout\",target:c})},12e4);c.onerror=c.onload=n,document.head.appendChild(c)}return Promise.all(e)},s.m=u,s.c=t,s.d=function(e,r,t){s.o(e,r)||Object.defineProperty(e,r,{enumerable:!0,get:t})},s.r=function(e){\"undefined\"!=typeof Symbol&&Symbol.toStringTag&&Object.defineProperty(e,Symbol.toStringTag,{value:\"Module\"}),Object.defineProperty(e,\"__esModule\",{value:!0})},s.t=function(r,e){if(1&e&&(r=s(r)),8&e)return r;if(4&e&&\"object\"==typeof r&&r&&r.__esModule)return r;var t=Object.create(null);if(s.r(t),Object.defineProperty(t,\"default\",{enumerable:!0,value:r}),2&e&&\"string\"!=typeof r)for(var n in r)s.d(t,n,function(e){return r[e]}.bind(null,n));return t},s.n=function(e){var r=e&&e.__esModule?function(){return e.default}:function(){return e};return s.d(r,\"a\",r),r},s.o=function(e,r){return Object.prototype.hasOwnProperty.call(e,r)},s.p=\"./\",s.oe=function(e){throw console.error(e),e};var r=this[\"webpackJsonpweb-shop\"]=this[\"webpackJsonpweb-shop\"]||[],n=r.push.bind(r);r.push=e,r=r.slice();for(var o=0;o<r.length;o++)e(r[o]);var p=n;l()}([])</script><script src=\"./static/js/30.0c2029e5.chunk.js\"></script><script src=\"./static/js/main.40e03576.chunk.js\"></script></body></html>'\n"
          ]
        }
      ]
    },
    {
      "cell_type": "code",
      "source": [],
      "metadata": {
        "id": "5PfoFKkfKh6t"
      },
      "execution_count": null,
      "outputs": []
    },
    {
      "cell_type": "code",
      "source": [
        "#saisir url \n",
        "url=\" https://webshop.transgourmet.ch/shop/index.html#/catalog?f=W10=\" \n"
      ],
      "metadata": {
        "id": "DDSLOwmV8IHf"
      },
      "execution_count": null,
      "outputs": []
    },
    {
      "cell_type": "code",
      "source": [
        "#importer le code de la page \n",
        "reponse=requests.get(url) \n",
        "soup=BeautifulSoup(reponse.text,\"html.parser\")\n",
        "#resultat de soup pour te rendre compte \n",
        "soup"
      ],
      "metadata": {
        "colab": {
          "base_uri": "https://localhost:8080/"
        },
        "id": "ILgfg4WE9Aa2",
        "outputId": "7bbaa963-5d48-4c70-d010-d16d16da1d3b"
      },
      "execution_count": null,
      "outputs": [
        {
          "output_type": "execute_result",
          "data": {
            "text/plain": [
              "<!DOCTYPE doctype html>\n",
              "<html lang=\"en\"><head><meta charset=\"utf-8\"/><meta content=\"width=device-width,initial-scale=1,shrink-to-fit=no\" name=\"viewport\"/><meta content=\"#000000\" name=\"theme-color\"/><meta content=\"IE=edge\" http-equiv=\"X-UA-Compatible\"/><link href=\"assets/css/base.css\" rel=\"stylesheet\"/><link href=\"./assets/transgourmet/images/favicons/apple-touch-icon.png\" rel=\"apple-touch-icon\" sizes=\"180x180\"/><link href=\"./assets/transgourmet/images/favicons/favicon-32x32.png\" rel=\"icon\" sizes=\"32x32\" type=\"image/png\"/><link href=\"./assets/transgourmet/images/favicons/favicon-16x16.png\" rel=\"icon\" sizes=\"16x16\" type=\"image/png\"/><link href=\"./assets/transgourmet/images/favicons/site.webmanifest\" rel=\"manifest\"/><link color=\"#ffffff\" href=\"./assets/transgourmet/images/favicons/safari-pinned-tab.svg\" rel=\"mask-icon\"/><meta content=\"#da532c\" name=\"msapplication-TileColor\"/><meta content=\"#ffffff\" name=\"theme-color\"/><link href=\"./assets/transgourmet/images/favicons/favicon.ico\" rel=\"shortcut icon\" type=\"image/x-icon\"><title>Web Shop</title><link href=\"./static/css/30.c2f27783.chunk.css\" rel=\"stylesheet\"/></link></head><body><noscript>You need to enable JavaScript to run this app. <img alt=\"\" height=\"1\" src=\"https://www.facebook.com/tr?id=2901560449900864&amp;ev=PageView &amp;noscript=1\" width=\"1\"/></noscript>\n",
              "<script>Function(\"/*@cc_on return document.documentMode===10@*/\")()&&(document.location.href=\"browsersupport.html\"),function(e,n,t,o,c,u,r){e.fbq||(c=e.fbq=function(){c.callMethod?c.callMethod.apply(c,arguments):c.queue.push(arguments)},e._fbq||(e._fbq=c),(c.push=c).loaded=!0,c.version=\"2.0\",c.queue=[],(u=n.createElement(t)).async=!0,u.src=\"https://connect.facebook.net/en_US/fbevents.js\",(r=n.getElementsByTagName(t)[0]).parentNode.insertBefore(u,r))}(window,document,\"script\")</script><div id=\"app-content\"><div class=\"splashWrapper\"><div class=\"splash\" id=\"splashContainer\"></div></div></div><script>const mandant = 'transgourmet';\n",
              "    const loaderImage = document.createElement(\"img\");\n",
              "\n",
              "    if (mandant === 'frischeparadies') {\n",
              "        document.title = 'Frischeparadies Web Shop';\n",
              "\n",
              "        loaderImage.setAttribute('src', 'assets/frischeparadies/images/logo.png');\n",
              "        loaderImage.setAttribute('width', '300px');\n",
              "\n",
              "        document.write('<link rel=\"stylesheet\" type=\"text/css\" href=\"./assets/frischeparadies/styles.css\">');\n",
              "\n",
              "    } else {\n",
              "        document.title = \"Transgourmet Web Shop\";\n",
              "\n",
              "        loaderImage.setAttribute('src', 'assets/transgourmet/images/logo.svg');\n",
              "\n",
              "        document.write('<link rel=\"stylesheet\" type=\"text/css\" href=\"./assets/transgourmet/styles.css\">');\n",
              "    }\n",
              "\n",
              "    document.getElementById('splashContainer').appendChild(loaderImage);\n",
              "\n",
              "    if (!window.btoa) {\n",
              "        document.write('<script src=\"./assets/polyfill/btoa/base64.min.js\"><\\/script>');\n",
              "    }</script>\n",
              "<script>\n",
              "    window.PPCONTEXT = {\n",
              "        DEPLOYMENT_ENVIRONMENT: 'PROD',\n",
              "        STATIC_IMAGES_BASE_URL: 'https://webshop.transgourmet.ch/images',\n",
              "        GOOGLE_TRACKING_ID: 'UA-49499734-21',\n",
              "        TGS_AUTH_METHOD: 'sso',\n",
              "        KEYCLOAK_HOST: 'https://login.transgourmet.ch/sso',\n",
              "        KEYCLOAK_REALM: 'Transgourmet',\n",
              "        BACKEND_URL: '/api/swap/webshop',\n",
              "        CONTAINER_STARTUP_TIME: '2023-01-11 22:01:25',\n",
              "        BUILD_TIME: '2023-01-10 17:58:18',\n",
              "        GITHASH: '1543077',\n",
              "        RELEASE_VERSION: '8.9.5',\n",
              "    };\n",
              "</script>\n",
              "<script>!function(e,a,n,t,c,g,o){e.GoogleAnalyticsObject=c,e.ga=e.ga||function(){(e.ga.q=e.ga.q||[]).push(arguments)},e.ga.l=1*new Date,g=a.createElement(n),o=a.getElementsByTagName(n)[0],g.async=1,g.src=\"//www.google-analytics.com/analytics.js\",o.parentNode.insertBefore(g,o)}(window,document,\"script\",0,\"ga\")</script><script>switch(PPCONTEXT.DEPLOYMENT_ENVIRONMENT){case\"TEST\":!function(t,e,a,c){t=\"//tags.tiqcdn.com/utag/coop-ch/tgch-transgourmet/dev/utag.js\",a=\"script\",(c=(e=document).createElement(a)).src=t,c.type=\"text/java\"+a,c.async=!0,(t=e.getElementsByTagName(a)[0]).parentNode.insertBefore(c,t)}();break;case\"DEVELOPMENT\":!function(t,e,a,c){t=\"//tags.tiqcdn.com/utag/coop-ch/tgch-transgourmet/qa/utag.js\",a=\"script\",(c=(e=document).createElement(a)).src=t,c.type=\"text/java\"+a,c.async=!0,(t=e.getElementsByTagName(a)[0]).parentNode.insertBefore(c,t)}();break;case\"PRODUCTION\":!function(t,e,a,c){t=\"//tags.tiqcdn.com/utag/coop-ch/tgch-transgourmet/prod/utag.js\",a=\"script\",(c=(e=document).createElement(a)).src=t,c.type=\"text/java\"+a,c.async=!0,(t=e.getElementsByTagName(a)[0]).parentNode.insertBefore(c,t)}()}</script><script>!function(u){function e(e){for(var r,t,n=e[0],o=e[1],c=e[2],a=0,i=[];a<n.length;a++)t=n[a],Object.prototype.hasOwnProperty.call(f,t)&&f[t]&&i.push(f[t][0]),f[t]=0;for(r in o)Object.prototype.hasOwnProperty.call(o,r)&&(u[r]=o[r]);for(p&&p(e);i.length;)i.shift()();return d.push.apply(d,c||[]),l()}function l(){for(var e,r=0;r<d.length;r++){for(var t=d[r],n=!0,o=1;o<t.length;o++){var c=t[o];0!==f[c]&&(n=!1)}n&&(d.splice(r--,1),e=s(s.s=t[0]))}return e}var t={},f={29:0},d=[];function s(e){if(t[e])return t[e].exports;var r=t[e]={i:e,l:!1,exports:{}};return u[e].call(r.exports,r,r.exports,s),r.l=!0,r.exports}s.e=function(o){var e=[],t=f[o];if(0!==t)if(t)e.push(t[2]);else{var r=new Promise(function(e,r){t=f[o]=[e,r]});e.push(t[2]=r);var n,c=document.createElement(\"script\");c.charset=\"utf-8\",c.timeout=120,s.nc&&c.setAttribute(\"nonce\",s.nc),c.src=s.p+\"static/js/\"+({4:\"CareScreen\",5:\"CartScreen\",6:\"CatalogModule\",7:\"CreateOrderScreen\",8:\"CustomPromoScreen\",9:\"CustomerOrderModule\",10:\"DeliveryDaysScreen\",11:\"DownloadScreen\",12:\"ExternalArticleModule\",13:\"ForgotPasswordChangeScreen\",14:\"HwgDetailScreen\",15:\"InventoryModule\",16:\"InvoiceListScreen\",17:\"OciEntryScreen\",18:\"OciFinishScreen\",19:\"PromotionPreviewOverview\",20:\"PromotionScreen\",21:\"SalesOrderSetScreen\",22:\"ScanpoolOverviewScreen\",23:\"SearchAnalyserScreen\",24:\"ShipmentListScreen\",25:\"SupplierModule\",26:\"TemplateModule\",27:\"UserSettingsScreen\"}[o]||o)+\".\"+{0:\"8bc217c9\",1:\"ed9fde11\",2:\"06eeac8b\",3:\"82cf810a\",4:\"de9d567d\",5:\"43f896fc\",6:\"fa9fd212\",7:\"befc06a0\",8:\"9ab7e946\",9:\"d81b500b\",10:\"e10b456a\",11:\"ed9f65b1\",12:\"d6ad79cc\",13:\"262e427c\",14:\"35c3afcc\",15:\"fabbc5c6\",16:\"4cac8cc7\",17:\"1b2ac3f0\",18:\"e665d057\",19:\"6c4b10a6\",20:\"bc6a9775\",21:\"d3a0142b\",22:\"1b2bd34d\",23:\"712d5759\",24:\"c6644b0a\",25:\"99f35dd6\",26:\"85fd3a37\",27:\"9ed723f3\",31:\"98becf66\"}[o]+\".chunk.js\";var a=new Error;n=function(e){c.onerror=c.onload=null,clearTimeout(i);var r=f[o];if(0!==r){if(r){var t=e&&(\"load\"===e.type?\"missing\":e.type),n=e&&e.target&&e.target.src;a.message=\"Loading chunk \"+o+\" failed.\\n(\"+t+\": \"+n+\")\",a.name=\"ChunkLoadError\",a.type=t,a.request=n,r[1](a)}f[o]=void 0}};var i=setTimeout(function(){n({type:\"timeout\",target:c})},12e4);c.onerror=c.onload=n,document.head.appendChild(c)}return Promise.all(e)},s.m=u,s.c=t,s.d=function(e,r,t){s.o(e,r)||Object.defineProperty(e,r,{enumerable:!0,get:t})},s.r=function(e){\"undefined\"!=typeof Symbol&&Symbol.toStringTag&&Object.defineProperty(e,Symbol.toStringTag,{value:\"Module\"}),Object.defineProperty(e,\"__esModule\",{value:!0})},s.t=function(r,e){if(1&e&&(r=s(r)),8&e)return r;if(4&e&&\"object\"==typeof r&&r&&r.__esModule)return r;var t=Object.create(null);if(s.r(t),Object.defineProperty(t,\"default\",{enumerable:!0,value:r}),2&e&&\"string\"!=typeof r)for(var n in r)s.d(t,n,function(e){return r[e]}.bind(null,n));return t},s.n=function(e){var r=e&&e.__esModule?function(){return e.default}:function(){return e};return s.d(r,\"a\",r),r},s.o=function(e,r){return Object.prototype.hasOwnProperty.call(e,r)},s.p=\"./\",s.oe=function(e){throw console.error(e),e};var r=this[\"webpackJsonpweb-shop\"]=this[\"webpackJsonpweb-shop\"]||[],n=r.push.bind(r);r.push=e,r=r.slice();for(var o=0;o<r.length;o++)e(r[o]);var p=n;l()}([])</script><script src=\"./static/js/30.0c2029e5.chunk.js\"></script><script src=\"./static/js/main.40e03576.chunk.js\"></script></body></html>"
            ]
          },
          "metadata": {},
          "execution_count": 17
        }
      ]
    },
    {
      "cell_type": "code",
      "source": [
        "#saisir url\n",
        "url=\"https://login.transgourmet.ch/sso\""
      ],
      "metadata": {
        "id": "2_vM9-BgCvXT"
      },
      "execution_count": null,
      "outputs": []
    },
    {
      "cell_type": "code",
      "source": [
        "#importer le code de la page \n",
        "reponse=requests.get(url) \n",
        "soup=BeautifulSoup(reponse.text,\"html.parser\")\n",
        "#resultat de soup pour te rendre compte \n",
        "soup"
      ],
      "metadata": {
        "id": "GSWxiKK9D3j8"
      },
      "execution_count": null,
      "outputs": []
    },
    {
      "cell_type": "code",
      "source": [
        "items=soup.findAll('item')"
      ],
      "metadata": {
        "id": "9j_yH2-P-dXD"
      },
      "execution_count": null,
      "outputs": []
    },
    {
      "cell_type": "code",
      "source": [
        "from typing import ItemsView\n",
        "ItemsView"
      ],
      "metadata": {
        "colab": {
          "base_uri": "https://localhost:8080/"
        },
        "id": "-m1_Yx_eF8Nl",
        "outputId": "67421448-7b97-4429-c00c-f1cb203e2681"
      },
      "execution_count": null,
      "outputs": [
        {
          "output_type": "execute_result",
          "data": {
            "text/plain": [
              "typing.ItemsView"
            ]
          },
          "metadata": {},
          "execution_count": 31
        }
      ]
    },
    {
      "cell_type": "code",
      "source": [
        "url=\"https://www.transgourmet.ch/de/pg/kunde-werden\""
      ],
      "metadata": {
        "id": "k00a7r_nGi8F"
      },
      "execution_count": null,
      "outputs": []
    },
    {
      "cell_type": "code",
      "source": [
        "#importer le code de la page \n",
        "reponse=requests.get(url) \n",
        "soup=BeautifulSoup(reponse.text,\"html.parser\")\n",
        "#resultat de soup pour te rendre compte \n",
        "soup"
      ],
      "metadata": {
        "id": "9DBUOigQGwNL"
      },
      "execution_count": null,
      "outputs": []
    },
    {
      "cell_type": "code",
      "source": [
        "url=\"https://www.transgourmet.ch/de/co/agb\""
      ],
      "metadata": {
        "id": "u23ep9JuG_Q6"
      },
      "execution_count": null,
      "outputs": []
    },
    {
      "cell_type": "code",
      "source": [
        "#importer le code de la page \n",
        "reponse=requests.get(url) \n",
        "soup=BeautifulSoup(reponse.text,\"html.parser\")\n",
        "#resultat de soup pour te rendre compte \n",
        "soup"
      ],
      "metadata": {
        "id": "53DIZ9rHHdCu"
      },
      "execution_count": null,
      "outputs": []
    },
    {
      "cell_type": "code",
      "source": [
        "import urllib.request\n",
        "\n",
        "url = \"https://webshop.transgourmet.ch/shop/index.html#/catalog?f=W10\"\n",
        "response = urllib.request.urlopen(url)\n",
        "html = response.read()\n"
      ],
      "metadata": {
        "id": "z7lV4bnJNrN4"
      },
      "execution_count": null,
      "outputs": []
    },
    {
      "cell_type": "code",
      "source": [
        "print(html)\n"
      ],
      "metadata": {
        "colab": {
          "base_uri": "https://localhost:8080/"
        },
        "id": "21RT1nYHOOQD",
        "outputId": "c712dfbc-776f-4dfd-9318-077acb9143b2"
      },
      "execution_count": null,
      "outputs": [
        {
          "output_type": "stream",
          "name": "stdout",
          "text": [
            "b'<!doctype html><html lang=\"en\"><head><meta charset=\"utf-8\"><meta name=\"viewport\" content=\"width=device-width,initial-scale=1,shrink-to-fit=no\"><meta name=\"theme-color\" content=\"#000000\"><meta http-equiv=\"X-UA-Compatible\" content=\"IE=edge\"><link rel=\"stylesheet\" href=\"assets/css/base.css\"><link rel=\"apple-touch-icon\" sizes=\"180x180\" href=\"./assets/transgourmet/images/favicons/apple-touch-icon.png\"><link rel=\"icon\" type=\"image/png\" sizes=\"32x32\" href=\"./assets/transgourmet/images/favicons/favicon-32x32.png\"><link rel=\"icon\" type=\"image/png\" sizes=\"16x16\" href=\"./assets/transgourmet/images/favicons/favicon-16x16.png\"><link rel=\"manifest\" href=\"./assets/transgourmet/images/favicons/site.webmanifest\"><link rel=\"mask-icon\" href=\"./assets/transgourmet/images/favicons/safari-pinned-tab.svg\" color=\"#ffffff\"><meta name=\"msapplication-TileColor\" content=\"#da532c\"><meta name=\"theme-color\" content=\"#ffffff\"><link rel=\"shortcut icon\" type=\"image/x-icon\" href=\"./assets/transgourmet/images/favicons/favicon.ico\"/><title>Web Shop</title><link href=\"./static/css/30.c2f27783.chunk.css\" rel=\"stylesheet\"></head><body><noscript>You need to enable JavaScript to run this app. <img height=\"1\" width=\"1\" src=\"https://www.facebook.com/tr?id=2901560449900864&ev=PageView &noscript=1\" alt=\"\"/></noscript>\\n\\n<script>Function(\"/*@cc_on return document.documentMode===10@*/\")()&&(document.location.href=\"browsersupport.html\"),function(e,n,t,o,c,u,r){e.fbq||(c=e.fbq=function(){c.callMethod?c.callMethod.apply(c,arguments):c.queue.push(arguments)},e._fbq||(e._fbq=c),(c.push=c).loaded=!0,c.version=\"2.0\",c.queue=[],(u=n.createElement(t)).async=!0,u.src=\"https://connect.facebook.net/en_US/fbevents.js\",(r=n.getElementsByTagName(t)[0]).parentNode.insertBefore(u,r))}(window,document,\"script\")</script><div id=\"app-content\"><div class=\"splashWrapper\"><div id=\"splashContainer\" class=\"splash\"></div></div></div><script>const mandant = \\'transgourmet\\';\\n    const loaderImage = document.createElement(\"img\");\\n\\n    if (mandant === \\'frischeparadies\\') {\\n        document.title = \\'Frischeparadies Web Shop\\';\\n\\n        loaderImage.setAttribute(\\'src\\', \\'assets/frischeparadies/images/logo.png\\');\\n        loaderImage.setAttribute(\\'width\\', \\'300px\\');\\n\\n        document.write(\\'<link rel=\"stylesheet\" type=\"text/css\" href=\"./assets/frischeparadies/styles.css\">\\');\\n\\n    } else {\\n        document.title = \"Transgourmet Web Shop\";\\n\\n        loaderImage.setAttribute(\\'src\\', \\'assets/transgourmet/images/logo.svg\\');\\n\\n        document.write(\\'<link rel=\"stylesheet\" type=\"text/css\" href=\"./assets/transgourmet/styles.css\">\\');\\n    }\\n\\n    document.getElementById(\\'splashContainer\\').appendChild(loaderImage);\\n\\n    if (!window.btoa) {\\n        document.write(\\'<script src=\"./assets/polyfill/btoa/base64.min.js\"><\\\\/script>\\');\\n    }</script>\\n<script>\\n    window.PPCONTEXT = {\\n        DEPLOYMENT_ENVIRONMENT: \\'PROD\\',\\n        STATIC_IMAGES_BASE_URL: \\'https://webshop.transgourmet.ch/images\\',\\n        GOOGLE_TRACKING_ID: \\'UA-49499734-21\\',\\n        TGS_AUTH_METHOD: \\'sso\\',\\n        KEYCLOAK_HOST: \\'https://login.transgourmet.ch/sso\\',\\n        KEYCLOAK_REALM: \\'Transgourmet\\',\\n        BACKEND_URL: \\'/api/swap/webshop\\',\\n        CONTAINER_STARTUP_TIME: \\'2023-01-11 22:01:25\\',\\n        BUILD_TIME: \\'2023-01-10 17:58:18\\',\\n        GITHASH: \\'1543077\\',\\n        RELEASE_VERSION: \\'8.9.5\\',\\n    };\\n</script>\\n<script>!function(e,a,n,t,c,g,o){e.GoogleAnalyticsObject=c,e.ga=e.ga||function(){(e.ga.q=e.ga.q||[]).push(arguments)},e.ga.l=1*new Date,g=a.createElement(n),o=a.getElementsByTagName(n)[0],g.async=1,g.src=\"//www.google-analytics.com/analytics.js\",o.parentNode.insertBefore(g,o)}(window,document,\"script\",0,\"ga\")</script><script>switch(PPCONTEXT.DEPLOYMENT_ENVIRONMENT){case\"TEST\":!function(t,e,a,c){t=\"//tags.tiqcdn.com/utag/coop-ch/tgch-transgourmet/dev/utag.js\",a=\"script\",(c=(e=document).createElement(a)).src=t,c.type=\"text/java\"+a,c.async=!0,(t=e.getElementsByTagName(a)[0]).parentNode.insertBefore(c,t)}();break;case\"DEVELOPMENT\":!function(t,e,a,c){t=\"//tags.tiqcdn.com/utag/coop-ch/tgch-transgourmet/qa/utag.js\",a=\"script\",(c=(e=document).createElement(a)).src=t,c.type=\"text/java\"+a,c.async=!0,(t=e.getElementsByTagName(a)[0]).parentNode.insertBefore(c,t)}();break;case\"PRODUCTION\":!function(t,e,a,c){t=\"//tags.tiqcdn.com/utag/coop-ch/tgch-transgourmet/prod/utag.js\",a=\"script\",(c=(e=document).createElement(a)).src=t,c.type=\"text/java\"+a,c.async=!0,(t=e.getElementsByTagName(a)[0]).parentNode.insertBefore(c,t)}()}</script><script>!function(u){function e(e){for(var r,t,n=e[0],o=e[1],c=e[2],a=0,i=[];a<n.length;a++)t=n[a],Object.prototype.hasOwnProperty.call(f,t)&&f[t]&&i.push(f[t][0]),f[t]=0;for(r in o)Object.prototype.hasOwnProperty.call(o,r)&&(u[r]=o[r]);for(p&&p(e);i.length;)i.shift()();return d.push.apply(d,c||[]),l()}function l(){for(var e,r=0;r<d.length;r++){for(var t=d[r],n=!0,o=1;o<t.length;o++){var c=t[o];0!==f[c]&&(n=!1)}n&&(d.splice(r--,1),e=s(s.s=t[0]))}return e}var t={},f={29:0},d=[];function s(e){if(t[e])return t[e].exports;var r=t[e]={i:e,l:!1,exports:{}};return u[e].call(r.exports,r,r.exports,s),r.l=!0,r.exports}s.e=function(o){var e=[],t=f[o];if(0!==t)if(t)e.push(t[2]);else{var r=new Promise(function(e,r){t=f[o]=[e,r]});e.push(t[2]=r);var n,c=document.createElement(\"script\");c.charset=\"utf-8\",c.timeout=120,s.nc&&c.setAttribute(\"nonce\",s.nc),c.src=s.p+\"static/js/\"+({4:\"CareScreen\",5:\"CartScreen\",6:\"CatalogModule\",7:\"CreateOrderScreen\",8:\"CustomPromoScreen\",9:\"CustomerOrderModule\",10:\"DeliveryDaysScreen\",11:\"DownloadScreen\",12:\"ExternalArticleModule\",13:\"ForgotPasswordChangeScreen\",14:\"HwgDetailScreen\",15:\"InventoryModule\",16:\"InvoiceListScreen\",17:\"OciEntryScreen\",18:\"OciFinishScreen\",19:\"PromotionPreviewOverview\",20:\"PromotionScreen\",21:\"SalesOrderSetScreen\",22:\"ScanpoolOverviewScreen\",23:\"SearchAnalyserScreen\",24:\"ShipmentListScreen\",25:\"SupplierModule\",26:\"TemplateModule\",27:\"UserSettingsScreen\"}[o]||o)+\".\"+{0:\"8bc217c9\",1:\"ed9fde11\",2:\"06eeac8b\",3:\"82cf810a\",4:\"de9d567d\",5:\"43f896fc\",6:\"fa9fd212\",7:\"befc06a0\",8:\"9ab7e946\",9:\"d81b500b\",10:\"e10b456a\",11:\"ed9f65b1\",12:\"d6ad79cc\",13:\"262e427c\",14:\"35c3afcc\",15:\"fabbc5c6\",16:\"4cac8cc7\",17:\"1b2ac3f0\",18:\"e665d057\",19:\"6c4b10a6\",20:\"bc6a9775\",21:\"d3a0142b\",22:\"1b2bd34d\",23:\"712d5759\",24:\"c6644b0a\",25:\"99f35dd6\",26:\"85fd3a37\",27:\"9ed723f3\",31:\"98becf66\"}[o]+\".chunk.js\";var a=new Error;n=function(e){c.onerror=c.onload=null,clearTimeout(i);var r=f[o];if(0!==r){if(r){var t=e&&(\"load\"===e.type?\"missing\":e.type),n=e&&e.target&&e.target.src;a.message=\"Loading chunk \"+o+\" failed.\\\\n(\"+t+\": \"+n+\")\",a.name=\"ChunkLoadError\",a.type=t,a.request=n,r[1](a)}f[o]=void 0}};var i=setTimeout(function(){n({type:\"timeout\",target:c})},12e4);c.onerror=c.onload=n,document.head.appendChild(c)}return Promise.all(e)},s.m=u,s.c=t,s.d=function(e,r,t){s.o(e,r)||Object.defineProperty(e,r,{enumerable:!0,get:t})},s.r=function(e){\"undefined\"!=typeof Symbol&&Symbol.toStringTag&&Object.defineProperty(e,Symbol.toStringTag,{value:\"Module\"}),Object.defineProperty(e,\"__esModule\",{value:!0})},s.t=function(r,e){if(1&e&&(r=s(r)),8&e)return r;if(4&e&&\"object\"==typeof r&&r&&r.__esModule)return r;var t=Object.create(null);if(s.r(t),Object.defineProperty(t,\"default\",{enumerable:!0,value:r}),2&e&&\"string\"!=typeof r)for(var n in r)s.d(t,n,function(e){return r[e]}.bind(null,n));return t},s.n=function(e){var r=e&&e.__esModule?function(){return e.default}:function(){return e};return s.d(r,\"a\",r),r},s.o=function(e,r){return Object.prototype.hasOwnProperty.call(e,r)},s.p=\"./\",s.oe=function(e){throw console.error(e),e};var r=this[\"webpackJsonpweb-shop\"]=this[\"webpackJsonpweb-shop\"]||[],n=r.push.bind(r);r.push=e,r=r.slice();for(var o=0;o<r.length;o++)e(r[o]);var p=n;l()}([])</script><script src=\"./static/js/30.0c2029e5.chunk.js\"></script><script src=\"./static/js/main.40e03576.chunk.js\"></script></body></html>'\n"
          ]
        }
      ]
    },
    {
      "cell_type": "code",
      "source": [
        "from bs4 import BeautifulSoup\n",
        "import urllib.request\n",
        "\n",
        "url = \"https://webshop.transgourmet.ch/shop/index.html#/catalog?f=W10\"\n",
        "response = urllib.request.urlopen(url)\n",
        "html = response.read()\n",
        "soup = BeautifulSoup(html, 'html.parser')\n",
        "\n",
        "# Utilisez la méthode find_all pour récupérer tous les éléments ayant un certain tag, par exemple 'a'\n",
        "titles = soup.find_all('a', class_='title')\n",
        "for title in titles:\n",
        "    print(title.get_text())\n"
      ],
      "metadata": {
        "id": "IOS4AZvKOtuj"
      },
      "execution_count": null,
      "outputs": []
    },
    {
      "cell_type": "markdown",
      "source": [
        "pour ce site il faut changer le user agent \n",
        "c est utiliser pour bloquer le scraping touche f12 pour avoir acces \n"
      ],
      "metadata": {
        "id": "dM4OxySFQr4h"
      }
    },
    {
      "cell_type": "code",
      "source": [
        "reponse=requests.get(\"https://httpbin.org/user-agent\")\n",
        "reponse.json()"
      ],
      "metadata": {
        "colab": {
          "base_uri": "https://localhost:8080/"
        },
        "id": "9TzAW41NQ-wm",
        "outputId": "f3cff8d1-80a8-4f44-b0d5-8172f5a223a8"
      },
      "execution_count": null,
      "outputs": [
        {
          "output_type": "execute_result",
          "data": {
            "text/plain": [
              "{'user-agent': 'python-requests/2.25.1'}"
            ]
          },
          "metadata": {},
          "execution_count": 54
        }
      ]
    },
    {
      "cell_type": "code",
      "source": [],
      "metadata": {
        "id": "E8RBsNYKTBWN"
      },
      "execution_count": null,
      "outputs": []
    }
  ]
}